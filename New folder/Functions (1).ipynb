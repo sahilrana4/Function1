{
  "nbformat": 4,
  "nbformat_minor": 0,
  "metadata": {
    "colab": {
      "provenance": []
    },
    "kernelspec": {
      "name": "python3",
      "display_name": "Python 3"
    },
    "language_info": {
      "name": "python"
    }
  },
  "cells": [
    {
      "cell_type": "markdown",
      "source": [
        " 1. What is the difference between a function and a method in Python?\n",
        " -  **Function :** Function is block of code that is called its name(independent).\n",
        "\n",
        "  **Method :** Method is also called its name but it is associated to an object(dependent).like object.method().\n",
        "****\n",
        " 2. Explain the concept of function arguments and parameters in Python.\n",
        " -  **Arguments :** Arguments are the actual values or data passed to a function when it called.These values are assigned tothe corresponding parameters.       **like: hello(\"sahil\",20) #\"sahil\" and 20 arguments.**\n",
        "\n",
        "  **Parameters :** Parameters are the variables defined within the parantheses of a function's defination.They act as placeholders for the values function expexts to receive when it is called.\n",
        "  **like: def hello(name,age)**\n",
        "\n",
        "\n",
        "****\n",
        " 3. What are the different ways to define and call a function in Python?\n",
        " -  **Way to define function:**\n",
        "      1. Use `def` keyword to initiate function.\n",
        "      2. `function_name` give unique itdentity realated your code or work\n",
        "      3. `parameters` varibles listed inside the parameters.\n",
        "      4. colon `:`. **like def function_name(parametrs):**\n",
        "\n",
        "  **Call a Function: **\n",
        "      1. Write your `fuction_name`\n",
        "      2. Use parantheses(),and write arguments under paratheses. **like: fuction_name(arguments)**\n",
        "****\n",
        " 4. What is the purpose of the `return` statement in a Python function?\n",
        " - `return` statement is used to terminating function execution and returning a value to the caller.\n",
        "****  \n",
        " 5. What are iterators in Python and how do they differ from iterables?\n",
        " -  **Iterator: ** An iterator is an object repersenting a stream data return the data one by one. It implements two method: iter(), next().\n",
        "\n",
        " Iterables differ from iterators because iterable returning one member at a time od data structure and iterable don't track position and can be itrated multiple times.\n",
        "****\n",
        " 6. Explain the concept of generators in Python and how they are defined.\n",
        " - **Generators: ** A generator is a special type of function or expression that produce an iterable sequence of value on demand one at a time.\n",
        "\n",
        " **Concepts : ** `Yield` keyword use to instead of `return` keyword in genrator Function.\n",
        "****\n",
        " 7. What are the advantages of using generators over regular functions?\n",
        " -  **Generators Function : **\n",
        "      1. Generators function usage less memory than regular function.\n",
        "      2. Use less exection time.\n",
        "****\n",
        " 8. What is a lambda function in Python and when is it typically used?\n",
        " -  A lambda function is a small anonymous function.A lambda function can take any number of arguments ,but can only have one expression.\n",
        "\n",
        " It is typically used is better shown when you use them as an anonymous function  inside another function.\n",
        "****\n",
        " 9. Explain the purpose and usage of the `map()` function in Python.\n",
        " -  `Map()`: `the map()` function executes a specified function for each item in an iterable.\n",
        " **Syntax :** map(function, iterable)\n",
        "****\n",
        " 10. What is the difference between `map()`, `reduce()`, and `filter()` functions in Python?\n",
        " -  `Map()`: `Map()` executes a specified function for each item if an iterable.\n",
        "\n",
        " `reduce()`: `reduce()`function is used to apply a particular function passed in its arguments to all of the list elements.The function defined in functools module.\n",
        "\n",
        " `filter()`: `filter()` is used to filter elements an iterable based on some cindtion.\n",
        "****\n"
      ],
      "metadata": {
        "id": "_lhxvD3fJII7"
      }
    },
    {
      "cell_type": "markdown",
      "source": [
        " 11. Using pen & Paper write the internal mechanism for sum operation using  reduce function on this given\n",
        " list:[47,11,42,13];"
      ],
      "metadata": {
        "id": "iJf3jiT2N-nh"
      }
    },
    {
      "cell_type": "code",
      "source": [
        "from functools import reduce\n",
        "l=[47,11,42,13]\n",
        "reduce(lambda x,y : x+y,l)"
      ],
      "metadata": {
        "colab": {
          "base_uri": "https://localhost:8080/"
        },
        "id": "7KwLHxvjOSUt",
        "outputId": "15c2371a-7ab3-41be-c07d-2f40d175f1d2"
      },
      "execution_count": null,
      "outputs": [
        {
          "output_type": "execute_result",
          "data": {
            "text/plain": [
              "113"
            ]
          },
          "metadata": {},
          "execution_count": 8
        }
      ]
    },
    {
      "cell_type": "markdown",
      "source": [
        "**Practical Question**"
      ],
      "metadata": {
        "id": "tVSLcED6RZbW"
      }
    },
    {
      "cell_type": "markdown",
      "source": [
        " 1. Write a Python function that takes a list of numbers as input and returns the sum of all even numbers in the list."
      ],
      "metadata": {
        "id": "9jMHnlHacg-6"
      }
    },
    {
      "cell_type": "code",
      "source": [
        "def evensum(numbers):\n",
        "  totalsum=0\n",
        "  for i in numbers:\n",
        "    if i%2==0:\n",
        "      totalsum+=i\n",
        "  return totalsum\n",
        "\n",
        "\n",
        "my_list=[1,2,3,4,5,6,7,8,9,10]\n",
        "sum=evensum(my_list)\n",
        "print(f\"Sum of even numbers\",{sum})"
      ],
      "metadata": {
        "colab": {
          "base_uri": "https://localhost:8080/"
        },
        "id": "dY0QAkBoPH4i",
        "outputId": "a1cf65a6-ad4b-4ed0-8e6d-9149d173ea76"
      },
      "execution_count": null,
      "outputs": [
        {
          "output_type": "stream",
          "name": "stdout",
          "text": [
            "Sum of even numbers {30}\n"
          ]
        }
      ]
    },
    {
      "cell_type": "markdown",
      "source": [
        "2. Create a Python function that accepts a string and returns the reverse of that string"
      ],
      "metadata": {
        "id": "Ch0RMx6Je_Oy"
      }
    },
    {
      "cell_type": "code",
      "source": [
        "def reverse_string(input_string):\n",
        "\n",
        "  return input_string[::-1]\n",
        "\n",
        "input_string=\"sahil\"\n",
        "reverse_string(input_string)"
      ],
      "metadata": {
        "colab": {
          "base_uri": "https://localhost:8080/",
          "height": 36
        },
        "id": "nS2za5Trernb",
        "outputId": "12e0cdd3-f445-4613-9f7e-6d949deb5508"
      },
      "execution_count": null,
      "outputs": [
        {
          "output_type": "execute_result",
          "data": {
            "text/plain": [
              "'lihas'"
            ],
            "application/vnd.google.colaboratory.intrinsic+json": {
              "type": "string"
            }
          },
          "metadata": {},
          "execution_count": 22
        }
      ]
    },
    {
      "cell_type": "markdown",
      "source": [
        "3. Implement a Python function that takes a list of integers and returns a new list containing the squares of each number."
      ],
      "metadata": {
        "id": "owtKldyWf4Rz"
      }
    },
    {
      "cell_type": "code",
      "source": [
        "def squarelist(a):\n",
        "\n",
        "  squared_list = [num ** 2 for num in a]\n",
        "  return squared_list\n",
        "\n",
        "a=[1,2,3,4,5]\n",
        "squarelist(a)"
      ],
      "metadata": {
        "colab": {
          "base_uri": "https://localhost:8080/"
        },
        "id": "xWZJD5yTfXnc",
        "outputId": "a4f933d2-59e2-4028-ac68-60cfbcd877ab"
      },
      "execution_count": null,
      "outputs": [
        {
          "output_type": "execute_result",
          "data": {
            "text/plain": [
              "[1, 4, 9, 16, 25]"
            ]
          },
          "metadata": {},
          "execution_count": 24
        }
      ]
    },
    {
      "cell_type": "markdown",
      "source": [
        "4. Write a Python function that checks if a given number is prime or not from 1 to 200."
      ],
      "metadata": {
        "id": "FUdjcUb_gbPZ"
      }
    },
    {
      "cell_type": "code",
      "source": [
        "\n",
        "def is_prime(num):\n",
        "    if num <= 1:\n",
        "        return \"not prime number\"\n",
        "    for i in range(2, int(num**0.5) + 1):\n",
        "        if num % i == 0:\n",
        "            return \"not prime number\"\n",
        "    return True\n",
        "\n",
        "def find_primes_in_range(start, end):\n",
        "    prime_numbers = []\n",
        "    for num in range(start, end + 1):\n",
        "        if is_prime(num):\n",
        "            prime_numbers.append(num)\n",
        "    return prime_numbers\n",
        "\n",
        "prime_numbers_1_to_200 = find_primes_in_range(1, 200)\n",
        "print(\"Prime numbers from 1 to 200:\")\n",
        "print(prime_numbers_1_to_200)\n"
      ],
      "metadata": {
        "id": "onnfccTngSkS",
        "colab": {
          "base_uri": "https://localhost:8080/"
        },
        "outputId": "ae38241e-b029-4215-d305-f704a21cc540"
      },
      "execution_count": 27,
      "outputs": [
        {
          "output_type": "stream",
          "name": "stdout",
          "text": [
            "Prime numbers from 1 to 200:\n",
            "[1, 2, 3, 4, 5, 6, 7, 8, 9, 10, 11, 12, 13, 14, 15, 16, 17, 18, 19, 20, 21, 22, 23, 24, 25, 26, 27, 28, 29, 30, 31, 32, 33, 34, 35, 36, 37, 38, 39, 40, 41, 42, 43, 44, 45, 46, 47, 48, 49, 50, 51, 52, 53, 54, 55, 56, 57, 58, 59, 60, 61, 62, 63, 64, 65, 66, 67, 68, 69, 70, 71, 72, 73, 74, 75, 76, 77, 78, 79, 80, 81, 82, 83, 84, 85, 86, 87, 88, 89, 90, 91, 92, 93, 94, 95, 96, 97, 98, 99, 100, 101, 102, 103, 104, 105, 106, 107, 108, 109, 110, 111, 112, 113, 114, 115, 116, 117, 118, 119, 120, 121, 122, 123, 124, 125, 126, 127, 128, 129, 130, 131, 132, 133, 134, 135, 136, 137, 138, 139, 140, 141, 142, 143, 144, 145, 146, 147, 148, 149, 150, 151, 152, 153, 154, 155, 156, 157, 158, 159, 160, 161, 162, 163, 164, 165, 166, 167, 168, 169, 170, 171, 172, 173, 174, 175, 176, 177, 178, 179, 180, 181, 182, 183, 184, 185, 186, 187, 188, 189, 190, 191, 192, 193, 194, 195, 196, 197, 198, 199, 200]\n"
          ]
        }
      ]
    },
    {
      "cell_type": "markdown",
      "source": [
        "5. Create an iterator class in Python that generates the Fibonacci sequence up to a specified number of terms."
      ],
      "metadata": {
        "id": "TTpGJ0NxF0Ho"
      }
    },
    {
      "cell_type": "code",
      "source": [
        "\n",
        "fab = lambda n: n if n<=1  else fab(n-1) + fab(n-2)\n",
        "[fab(i) for i in range (10)]"
      ],
      "metadata": {
        "colab": {
          "base_uri": "https://localhost:8080/"
        },
        "id": "XsIZURSWLF2L",
        "outputId": "4be9c9ec-6ac4-44df-b9bd-a7b16460aef4"
      },
      "execution_count": 28,
      "outputs": [
        {
          "output_type": "execute_result",
          "data": {
            "text/plain": [
              "[0, 1, 1, 2, 3, 5, 8, 13, 21, 34]"
            ]
          },
          "metadata": {},
          "execution_count": 28
        }
      ]
    },
    {
      "cell_type": "markdown",
      "source": [
        "6. Write a generator function in Python that yields the powers of 2 up to a given exponent.\n"
      ],
      "metadata": {
        "id": "eyXldKSZGBJx"
      }
    },
    {
      "cell_type": "code",
      "source": [
        "\n",
        "def power(n):\n",
        "  for i in range(n):\n",
        "    yield 2**i\n",
        "\n",
        "f=power(4)\n",
        "next(f)\n",
        "next(f)\n",
        "next(f)\n",
        "next(f)"
      ],
      "metadata": {
        "colab": {
          "base_uri": "https://localhost:8080/"
        },
        "id": "ejEr22S7LN9d",
        "outputId": "5ef5786c-0176-4a77-c7ae-2a2993cf93e7"
      },
      "execution_count": 29,
      "outputs": [
        {
          "output_type": "execute_result",
          "data": {
            "text/plain": [
              "8"
            ]
          },
          "metadata": {},
          "execution_count": 29
        }
      ]
    },
    {
      "cell_type": "markdown",
      "source": [
        "7. Implement a generator function that reads a file line by line and yields each line as a string.\n",
        "\n"
      ],
      "metadata": {
        "id": "6KojCF0pGI7q"
      }
    },
    {
      "cell_type": "code",
      "source": [
        "\n",
        "with open(\"file.txt\", \"w\") as f:\n",
        "    f.write(\"Hello\\nWorld\")\n",
        "\n",
        "def read_file_line_by_line(file_path):\n",
        "    with open(file_path, 'r') as file:\n",
        "        for line in file:\n",
        "            yield line.strip()\n",
        "\n",
        "f = read_file_line_by_line(\"file.txt\")\n",
        "next(f)\n",
        "next(f)"
      ],
      "metadata": {
        "colab": {
          "base_uri": "https://localhost:8080/",
          "height": 36
        },
        "id": "iyCmzqtALTw8",
        "outputId": "3909a70c-5f84-4124-e8a8-4bc416dccaeb"
      },
      "execution_count": 30,
      "outputs": [
        {
          "output_type": "execute_result",
          "data": {
            "text/plain": [
              "'World'"
            ],
            "application/vnd.google.colaboratory.intrinsic+json": {
              "type": "string"
            }
          },
          "metadata": {},
          "execution_count": 30
        }
      ]
    },
    {
      "cell_type": "markdown",
      "source": [
        "8. Use a lambda function in Python to sort a list of tuples based on the second element of each tuple.\n"
      ],
      "metadata": {
        "id": "3Nj0eP5KGOV8"
      }
    },
    {
      "cell_type": "code",
      "source": [
        "\n",
        "list1 = [(\"kartik\",\"sahil\",\"fox\"),(\"apple\",\"mango\",\"orange\")]\n",
        "x= lambda a: a.sort()\n",
        "x(list1)\n",
        "list1"
      ],
      "metadata": {
        "colab": {
          "base_uri": "https://localhost:8080/"
        },
        "id": "7Whs6Wz5LZR-",
        "outputId": "1c01551a-4a36-49c8-df4a-734fbe7da6f7"
      },
      "execution_count": 32,
      "outputs": [
        {
          "output_type": "execute_result",
          "data": {
            "text/plain": [
              "[('apple', 'mango', 'orange'), ('kartik', 'sahil', 'fox')]"
            ]
          },
          "metadata": {},
          "execution_count": 32
        }
      ]
    },
    {
      "cell_type": "markdown",
      "source": [
        "9. Write a Python program that uses map() to convert a list of temperatures from Celsius to Fahrenheit.\n"
      ],
      "metadata": {
        "id": "RUioF4uOGWIr"
      }
    },
    {
      "cell_type": "code",
      "source": [
        "list_of_celsius=[15,10,30,25]\n",
        "def fahrenheit(x):\n",
        "  return (x*9/5)+32\n",
        "\n",
        "fahrenheit = list(map(fahrenheit,list_of_celsius))\n",
        "print(\"celsius\",list_of_celsius)\n",
        "print(\"fahrenheit\",fahrenheit)"
      ],
      "metadata": {
        "colab": {
          "base_uri": "https://localhost:8080/"
        },
        "id": "zzDmDX01LqPf",
        "outputId": "fcd1ba24-5b6b-4244-ce0b-5538387f8bab"
      },
      "execution_count": 33,
      "outputs": [
        {
          "output_type": "stream",
          "name": "stdout",
          "text": [
            "celsius [15, 10, 30, 25]\n",
            "fahrenheit [59.0, 50.0, 86.0, 77.0]\n"
          ]
        }
      ]
    },
    {
      "cell_type": "markdown",
      "source": [
        "10. Create a Python program that uses filter() to remove all the vowels from a given string."
      ],
      "metadata": {
        "id": "jFSBTmlNGZeD"
      }
    },
    {
      "cell_type": "code",
      "source": [
        "\n",
        "vowels = \"a\",\"e\",\"s\",\"i\",\"g\",\"o\",\"u\",\"r\"\n",
        "l = (filter(lambda x:x in (\"a\",\"e\",\"i\",\"o\",\"u\"),vowels))\n",
        "\n",
        "print(l)\n",
        "next(l)"
      ],
      "metadata": {
        "colab": {
          "base_uri": "https://localhost:8080/",
          "height": 53
        },
        "id": "IupH5II0GtI-",
        "outputId": "ebf6639d-0b84-4631-afee-dab4b784ccc3"
      },
      "execution_count": 34,
      "outputs": [
        {
          "output_type": "stream",
          "name": "stdout",
          "text": [
            "<filter object at 0x7d874d930700>\n"
          ]
        },
        {
          "output_type": "execute_result",
          "data": {
            "text/plain": [
              "'a'"
            ],
            "application/vnd.google.colaboratory.intrinsic+json": {
              "type": "string"
            }
          },
          "metadata": {},
          "execution_count": 34
        }
      ]
    },
    {
      "cell_type": "code",
      "source": [
        "next(l)"
      ],
      "metadata": {
        "colab": {
          "base_uri": "https://localhost:8080/",
          "height": 36
        },
        "id": "b59042_5L8Uu",
        "outputId": "d44594b6-a01c-47cc-84ce-4f45c3a02a3c"
      },
      "execution_count": 36,
      "outputs": [
        {
          "output_type": "execute_result",
          "data": {
            "text/plain": [
              "'e'"
            ],
            "application/vnd.google.colaboratory.intrinsic+json": {
              "type": "string"
            }
          },
          "metadata": {},
          "execution_count": 36
        }
      ]
    },
    {
      "cell_type": "code",
      "source": [
        "next(l)"
      ],
      "metadata": {
        "colab": {
          "base_uri": "https://localhost:8080/",
          "height": 36
        },
        "id": "nMiEgElbL_IZ",
        "outputId": "d7c8be07-296e-4e74-d855-b17cef7e921a"
      },
      "execution_count": 37,
      "outputs": [
        {
          "output_type": "execute_result",
          "data": {
            "text/plain": [
              "'i'"
            ],
            "application/vnd.google.colaboratory.intrinsic+json": {
              "type": "string"
            }
          },
          "metadata": {},
          "execution_count": 37
        }
      ]
    },
    {
      "cell_type": "code",
      "source": [
        "next(l)"
      ],
      "metadata": {
        "colab": {
          "base_uri": "https://localhost:8080/",
          "height": 36
        },
        "id": "pHDa17euMB2c",
        "outputId": "ad7c0769-cb2e-4140-c78a-7b5aa23277b7"
      },
      "execution_count": 38,
      "outputs": [
        {
          "output_type": "execute_result",
          "data": {
            "text/plain": [
              "'o'"
            ],
            "application/vnd.google.colaboratory.intrinsic+json": {
              "type": "string"
            }
          },
          "metadata": {},
          "execution_count": 38
        }
      ]
    },
    {
      "cell_type": "code",
      "source": [
        "next(l)"
      ],
      "metadata": {
        "colab": {
          "base_uri": "https://localhost:8080/",
          "height": 36
        },
        "id": "UWDqP_HFMC1t",
        "outputId": "d5ab5f9d-7471-4720-b83a-2c00975c21ef"
      },
      "execution_count": 39,
      "outputs": [
        {
          "output_type": "execute_result",
          "data": {
            "text/plain": [
              "'u'"
            ],
            "application/vnd.google.colaboratory.intrinsic+json": {
              "type": "string"
            }
          },
          "metadata": {},
          "execution_count": 39
        }
      ]
    },
    {
      "cell_type": "markdown",
      "source": [
        "11. Imagine an accounting routine used in a book shop. It works on a list with sublists, which look like this: Write a Python program, which returns a list with 2-tuples. Each tuple consists of the order number and the product of the price per item and the quantity. The product should be increased by 10,- € if the value of the order is smaller than 100,00 €. Write a Python program using lambda and map"
      ],
      "metadata": {
        "id": "QySPDtgRGgPR"
      }
    },
    {
      "cell_type": "code",
      "source": [
        "\n",
        "book_shop=[\n",
        "    [34587,\"Learning Python, Mark Lutz\",4,40.95],\n",
        "    [98762,\"Programming Python, Mark Lutz\",5,56.80],\n",
        "    [77226,\"Head first python ,Paul Barry\",3,32.95],\n",
        "    [88112,\"Einfuhrung in Python3, Bernd Klein\",3,24.99]\n",
        "\n",
        "]\n",
        "li=list(map(lambda x:(x[0],x[2]*x[3] +10 if x[2]*x[3]<=10000 else x[2]*x[3]),book_shop))\n",
        "print(li)"
      ],
      "metadata": {
        "colab": {
          "base_uri": "https://localhost:8080/"
        },
        "id": "nAdvPHGAFcS6",
        "outputId": "a003f424-a252-4505-e678-5b708d605490"
      },
      "execution_count": 35,
      "outputs": [
        {
          "output_type": "stream",
          "name": "stdout",
          "text": [
            "[(34587, 173.8), (98762, 294.0), (77226, 108.85000000000001), (88112, 84.97)]\n"
          ]
        }
      ]
    },
    {
      "cell_type": "code",
      "source": [],
      "metadata": {
        "id": "aq5XBwB5L31h"
      },
      "execution_count": null,
      "outputs": []
    }
  ]
}